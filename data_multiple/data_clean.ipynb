{
 "cells": [
  {
   "cell_type": "code",
   "execution_count": 1,
   "id": "13851faa",
   "metadata": {},
   "outputs": [],
   "source": [
    "# declare the libraries\n",
    "import pandas as pd\n",
    "import matplotlib.pyplot as plt\n",
    "import numpy as np  "
   ]
  },
  {
   "cell_type": "code",
   "execution_count": 4,
   "id": "68468fb8",
   "metadata": {},
   "outputs": [
    {
     "name": "stdout",
     "output_type": "stream",
     "text": [
      "    sqft      price  bedrooms  age  garage  distance_to_center\n",
      "0  2.234  24.015334         4   27       1               25.48\n",
      "1  0.970  20.220336         5    6       1               25.76\n",
      "2  0.518   6.798509         3    8       1               12.43\n",
      "3  2.625  30.543294         5    7       1               26.69\n",
      "4  2.980  51.810683         5   11       0               25.60\n"
     ]
    }
   ],
   "source": [
    "# load the data\n",
    "df = pd.read_csv('house_prices_extended _multiple.csv')\n",
    "# first 5 rows\n",
    "print(df.head())"
   ]
  },
  {
   "cell_type": "code",
   "execution_count": 5,
   "id": "9745b008",
   "metadata": {},
   "outputs": [
    {
     "name": "stdout",
     "output_type": "stream",
     "text": [
      "<class 'numpy.ndarray'>\n",
      "<class 'numpy.ndarray'>\n",
      "<class 'numpy.ndarray'>\n",
      "<class 'numpy.ndarray'>\n",
      "<class 'numpy.ndarray'>\n",
      "<class 'numpy.ndarray'>\n"
     ]
    }
   ],
   "source": [
    "# x(n)_train is the input variable\n",
    "# y_train is the target (price in 1000s of dollars)\n",
    "# convert the data to numpy arrays for easier cleaning process using numpy\n",
    "x_train = df['sqft'].to_numpy()\n",
    "x1_train = df['bedrooms'].to_numpy()\n",
    "x2_train = df['age'].to_numpy()\n",
    "x3_train = df['garage'].to_numpy()\n",
    "x4_train = df['distance_to_center'].to_numpy()\n",
    "\n",
    "y_train = df['price'].to_numpy()\n",
    "print(type(x_train))\n",
    "print(type(x1_train))\n",
    "print(type(x2_train))   \n",
    "print(type(x3_train))\n",
    "print(type(x4_train))\n",
    "print(type(y_train))"
   ]
  },
  {
   "cell_type": "code",
   "execution_count": 6,
   "id": "1db84f62",
   "metadata": {},
   "outputs": [],
   "source": [
    "#function to clean the data\n",
    "\n",
    "def clean_unusual_price(x, x1, x2, x3, x4, y):\n",
    "    \"\"\"\n",
    "    Clear unusual prices in the input dataset\n",
    "    There are some unusual prices in the dataset that are not realistic\n",
    "    This function removes these prices\n",
    "    When removing the prices, the corresponding size is also removed to avoid mismatch and to be able to plot the data again\n",
    "    Args:\n",
    "      x (ndarray (m,)): Data, m examples \n",
    "    \"\"\"\n",
    "\n",
    "    m = x.shape[0]\n",
    "\n",
    "    # create a boolean to filter out the unusual values\n",
    "    clean = y > 0\n",
    "    # store the suitable values after cleaning\n",
    "    x = x[clean]\n",
    "    x1 = x1[clean]\n",
    "    x2 = x2[clean]\n",
    "    x3 = x3[clean]\n",
    "    x4 = x4[clean]\n",
    "    y = y[clean]\n",
    "    return x, x1, x2, x3, x4, y"
   ]
  },
  {
   "cell_type": "code",
   "execution_count": 7,
   "id": "fe847205",
   "metadata": {},
   "outputs": [],
   "source": [
    "# clean the data\n",
    "x_train, x1_train, x2_train, x3_train, x4_train, y_train = clean_unusual_price(x_train, x1_train, x2_train, x3_train, x4_train, y_train)"
   ]
  },
  {
   "cell_type": "code",
   "execution_count": 8,
   "id": "f55d217b",
   "metadata": {},
   "outputs": [],
   "source": [
    "# convert the cleaned data to DataFrame for easier saving process\n",
    "df = pd.DataFrame({\"sqft (1000s)\": x_train, \"bedrooms\": x1_train, \"age\": x2_train, \"garage\": x3_train, \"distance_to_center (miles)\": x4_train, \"price (1000s)\": y_train})\n",
    "\n",
    "# Save as CSV file\n",
    "# This csv file will be saved in the same folder with this 'cleaning' file\n",
    "# This file will be used for the new 'expreiment' on old/new model\n",
    "# The index in this dataset is not necessary, so I remove it for easier post-testing process on old/new model\n",
    "df.to_csv(\"house_prices_dataset_multiple_cleaned.csv\", index=False)"
   ]
  },
  {
   "cell_type": "code",
   "execution_count": null,
   "id": "abc1600d",
   "metadata": {},
   "outputs": [],
   "source": []
  }
 ],
 "metadata": {
  "kernelspec": {
   "display_name": "Python 3",
   "language": "python",
   "name": "python3"
  },
  "language_info": {
   "codemirror_mode": {
    "name": "ipython",
    "version": 3
   },
   "file_extension": ".py",
   "mimetype": "text/x-python",
   "name": "python",
   "nbconvert_exporter": "python",
   "pygments_lexer": "ipython3",
   "version": "3.10.14"
  }
 },
 "nbformat": 4,
 "nbformat_minor": 5
}
