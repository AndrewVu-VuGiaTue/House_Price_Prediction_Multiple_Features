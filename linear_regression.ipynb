{
 "cells": [
  {
   "cell_type": "code",
   "execution_count": 38,
   "id": "03f100f9",
   "metadata": {},
   "outputs": [],
   "source": [
    "# declare the libraries\n",
    "import pandas as pd\n",
    "import matplotlib.pyplot as plt\n",
    "import numpy as np  \n",
    "# Use this function from compute_cost.py to compute the cost\n",
    "from compute_cost import compute_cost\n",
    "# Use this function from compute_gd.py to perform gradient descent\n",
    "from compute_gdescent import compute_gradient, gradient_descent"
   ]
  },
  {
   "cell_type": "code",
   "execution_count": 39,
   "id": "ba62932f",
   "metadata": {},
   "outputs": [
    {
     "name": "stdout",
     "output_type": "stream",
     "text": [
      "   sqft (1000s)  bedrooms  age  garage  distance_to_center (miles)  \\\n",
      "0         2.234         4   27       1                       25.48   \n",
      "1         0.970         5    6       1                       25.76   \n",
      "2         0.518         3    8       1                       12.43   \n",
      "3         2.625         5    7       1                       26.69   \n",
      "4         2.980         5   11       0                       25.60   \n",
      "\n",
      "   price (1000s)  \n",
      "0      24.015334  \n",
      "1      20.220336  \n",
      "2       6.798509  \n",
      "3      30.543294  \n",
      "4      51.810683  \n"
     ]
    }
   ],
   "source": [
    "# read the data\n",
    "df = pd.read_csv('data_multiple/house_prices_dataset_multiple_cleaned.csv')\n",
    "\n",
    "# display the first 5 rows of the dataset\n",
    "print(df.head())"
   ]
  },
  {
   "cell_type": "code",
   "execution_count": 40,
   "id": "12f4f22c",
   "metadata": {},
   "outputs": [
    {
     "name": "stdout",
     "output_type": "stream",
     "text": [
      "                            sqft (1000s)  bedrooms       age    garage  \\\n",
      "sqft (1000s)                    1.000000 -0.056340  0.097592  0.124270   \n",
      "bedrooms                       -0.056340  1.000000 -0.009984  0.024749   \n",
      "age                             0.097592 -0.009984  1.000000  0.037558   \n",
      "garage                          0.124270  0.024749  0.037558  1.000000   \n",
      "distance_to_center (miles)     -0.007375 -0.043706 -0.052237  0.116140   \n",
      "price (1000s)                   0.020400 -0.141213  0.000722 -0.066310   \n",
      "\n",
      "                            distance_to_center (miles)  price (1000s)  \n",
      "sqft (1000s)                                 -0.007375       0.020400  \n",
      "bedrooms                                     -0.043706      -0.141213  \n",
      "age                                          -0.052237       0.000722  \n",
      "garage                                        0.116140      -0.066310  \n",
      "distance_to_center (miles)                    1.000000      -0.161737  \n",
      "price (1000s)                                -0.161737       1.000000  \n"
     ]
    }
   ],
   "source": [
    "# observe the correlation between the features\n",
    "print(df.corr())\n",
    "# not quite linear relationship :)), but I still use linear regression"
   ]
  },
  {
   "cell_type": "code",
   "execution_count": 41,
   "id": "deeb39f6",
   "metadata": {},
   "outputs": [
    {
     "name": "stdout",
     "output_type": "stream",
     "text": [
      "<class 'numpy.ndarray'>\n",
      "<class 'numpy.ndarray'>\n",
      "(82, 5)\n",
      "(82,)\n"
     ]
    }
   ],
   "source": [
    "# create dataset\n",
    "# x_train: features\n",
    "# y_train: target\n",
    "x_train = df[['sqft (1000s)', 'bedrooms', 'age', 'garage', 'distance_to_center (miles)']].values\n",
    "y_train = df['price (1000s)'].values\n",
    "# check the type of x_train and y_train\n",
    "print(type(x_train))\n",
    "print(type(y_train))\n",
    "# check the shape of x_train and y_train\n",
    "print(x_train.shape)\n",
    "print(y_train.shape)"
   ]
  },
  {
   "cell_type": "code",
   "execution_count": 42,
   "id": "c8812861",
   "metadata": {},
   "outputs": [
    {
     "name": "stdout",
     "output_type": "stream",
     "text": [
      "[0. 0. 0. 0. 0.]\n",
      "0\n"
     ]
    }
   ],
   "source": [
    "# initialize the parameters\n",
    "# w_init: weights  \n",
    "# b_init: bias\n",
    "w_init = np.zeros(x_train.shape[1])\n",
    "b_init = 0\n",
    "print(w_init)\n",
    "print(b_init)"
   ]
  },
  {
   "cell_type": "code",
   "execution_count": 43,
   "id": "16e836d4",
   "metadata": {},
   "outputs": [
    {
     "name": "stdout",
     "output_type": "stream",
     "text": [
      "2796.1493510379155\n"
     ]
    }
   ],
   "source": [
    "# calculate the cost\n",
    "cost = compute_cost(x_train, y_train, w_init, b_init)\n",
    "print(cost)"
   ]
  },
  {
   "cell_type": "code",
   "execution_count": 44,
   "id": "c03bc49d",
   "metadata": {},
   "outputs": [
    {
     "name": "stdout",
     "output_type": "stream",
     "text": [
      "dj_db at initial w,b: -63.68549294130565\n",
      "dj_dw at initial w,b: [ -113.98642739  -190.46049618 -1618.94022852   -31.32017807\n",
      "  -965.73391965]\n"
     ]
    }
   ],
   "source": [
    "# compute gradient\n",
    "# dj_db: derivative of cost with respect to b\n",
    "# dj_dw: derivative of cost with respect to w\n",
    "tmp_dj_db, tmp_dj_dw = compute_gradient(x_train, y_train, w_init, b_init)\n",
    "print(f'dj_db at initial w,b: {tmp_dj_db}')\n",
    "print(f'dj_dw at initial w,b: {tmp_dj_dw}')"
   ]
  },
  {
   "cell_type": "code",
   "execution_count": 47,
   "id": "d0f042da",
   "metadata": {},
   "outputs": [
    {
     "name": "stdout",
     "output_type": "stream",
     "text": [
      "Iteration    0: Cost  2794.35   \n",
      "Iteration  100: Cost  2623.41   \n",
      "Iteration  200: Cost  2469.81   \n",
      "Iteration  300: Cost  2331.81   \n",
      "Iteration  400: Cost  2207.80   \n",
      "Iteration  500: Cost  2096.37   \n",
      "Iteration  600: Cost  1996.24   \n",
      "Iteration  700: Cost  1906.26   \n",
      "Iteration  800: Cost  1825.40   \n",
      "Iteration  900: Cost  1752.73   \n",
      "b,w found by gradient descent: 0.03,[0.04604611 0.07645398 0.62287775 0.01246462 0.38023285] \n"
     ]
    }
   ],
   "source": [
    "# initialize parameters\n",
    "initial_w = np.zeros_like(w_init)\n",
    "initial_b = 0.\n",
    "# some gradient descent settings\n",
    "iterations = 1000\n",
    "alpha = 5.0e-7\n",
    "# run gradient descent \n",
    "w_final, b_final, J_hist = gradient_descent(x_train, y_train, initial_w, initial_b,\n",
    "                                                    compute_cost, compute_gradient, \n",
    "                                                    alpha, iterations)\n",
    "print(f\"b,w found by gradient descent: {b_final:0.2f},{w_final} \")"
   ]
  },
  {
   "cell_type": "code",
   "execution_count": 48,
   "id": "3ae173b4",
   "metadata": {},
   "outputs": [
    {
     "name": "stdout",
     "output_type": "stream",
     "text": [
      "Predicted price for x1_test: [8.51267389]\n",
      "Predicted price for x2_test: [7.41139104]\n"
     ]
    }
   ],
   "source": [
    "# experiment with new data\n",
    "x1_test = np.array([[2.5, 3, 10, 1, 5]])\n",
    "x2_test = np.array([[3.0, 4, 5, 2, 10]])\n",
    "# predict the price\n",
    "y1_test = np.dot(x1_test, w_final) + b_final\n",
    "y2_test = np.dot(x2_test, w_final) + b_final\n",
    "print(f\"Predicted price for x1_test: {y1_test}\")\n",
    "print(f\"Predicted price for x2_test: {y2_test}\")"
   ]
  },
  {
   "cell_type": "code",
   "execution_count": null,
   "id": "e852b619",
   "metadata": {},
   "outputs": [],
   "source": []
  }
 ],
 "metadata": {
  "kernelspec": {
   "display_name": "Python 3",
   "language": "python",
   "name": "python3"
  },
  "language_info": {
   "codemirror_mode": {
    "name": "ipython",
    "version": 3
   },
   "file_extension": ".py",
   "mimetype": "text/x-python",
   "name": "python",
   "nbconvert_exporter": "python",
   "pygments_lexer": "ipython3",
   "version": "3.10.14"
  }
 },
 "nbformat": 4,
 "nbformat_minor": 5
}
